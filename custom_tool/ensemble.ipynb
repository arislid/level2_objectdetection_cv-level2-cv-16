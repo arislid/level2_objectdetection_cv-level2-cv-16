{
 "cells": [
  {
   "cell_type": "code",
   "execution_count": null,
   "id": "a91ee08b",
   "metadata": {},
   "outputs": [],
   "source": [
    "# numpy downgrade가 필요할 수 있음\n",
    "# !python3 -m pip install numpy==1.20.0"
   ]
  },
  {
   "cell_type": "code",
   "execution_count": 7,
   "id": "490945b7",
   "metadata": {},
   "outputs": [
    {
     "name": "stdout",
     "output_type": "stream",
     "text": [
      "Requirement already satisfied: ensemble_boxes in /opt/conda/envs/detection/lib/python3.7/site-packages (1.0.9)\n",
      "Requirement already satisfied: pandas in /opt/conda/envs/detection/lib/python3.7/site-packages (from ensemble_boxes) (1.3.5)\n",
      "Requirement already satisfied: numpy in /opt/conda/envs/detection/lib/python3.7/site-packages (from ensemble_boxes) (1.21.5)\n",
      "Requirement already satisfied: numba in /opt/conda/envs/detection/lib/python3.7/site-packages (from ensemble_boxes) (0.56.4)\n",
      "Requirement already satisfied: importlib-metadata in /opt/conda/envs/detection/lib/python3.7/site-packages (from numba->ensemble_boxes) (5.0.0)\n",
      "Requirement already satisfied: setuptools in /opt/conda/envs/detection/lib/python3.7/site-packages (from numba->ensemble_boxes) (65.5.0)\n",
      "Requirement already satisfied: llvmlite<0.40,>=0.39.0dev0 in /opt/conda/envs/detection/lib/python3.7/site-packages (from numba->ensemble_boxes) (0.39.1)\n",
      "Requirement already satisfied: pytz>=2017.3 in /opt/conda/envs/detection/lib/python3.7/site-packages (from pandas->ensemble_boxes) (2022.6)\n",
      "Requirement already satisfied: python-dateutil>=2.7.3 in /opt/conda/envs/detection/lib/python3.7/site-packages (from pandas->ensemble_boxes) (2.8.2)\n",
      "Requirement already satisfied: six>=1.5 in /opt/conda/envs/detection/lib/python3.7/site-packages (from python-dateutil>=2.7.3->pandas->ensemble_boxes) (1.16.0)\n",
      "Requirement already satisfied: zipp>=0.5 in /opt/conda/envs/detection/lib/python3.7/site-packages (from importlib-metadata->numba->ensemble_boxes) (3.10.0)\n",
      "Requirement already satisfied: typing-extensions>=3.6.4 in /opt/conda/envs/detection/lib/python3.7/site-packages (from importlib-metadata->numba->ensemble_boxes) (4.3.0)\n",
      "\u001b[33mWARNING: Running pip as the 'root' user can result in broken permissions and conflicting behaviour with the system package manager. It is recommended to use a virtual environment instead: https://pip.pypa.io/warnings/venv\u001b[0m\u001b[33m\n",
      "\u001b[0m"
     ]
    }
   ],
   "source": [
    "# !pip install ensemble_boxes\n"
   ]
  },
  {
   "cell_type": "code",
   "execution_count": 1,
   "id": "89c40e19",
   "metadata": {},
   "outputs": [],
   "source": [
    "import pandas as pd\n",
    "from pycocotools.coco import COCO\n",
    "import numpy as np\n",
    "from ensemble_boxes import *\n",
    "\n"
   ]
  },
  {
   "cell_type": "code",
   "execution_count": 2,
   "id": "edda58ea",
   "metadata": {},
   "outputs": [],
   "source": [
    "# ensemble csv files\n",
    "submission_files = ['submission_latest_3.csv', 'submission_latest_4.csv'] # submission csv 파일 이름을 넣어주세요\n",
    "\n",
    "submission_df = [pd.read_csv(file) for file in submission_files]"
   ]
  },
  {
   "cell_type": "code",
   "execution_count": 3,
   "id": "0af4d382",
   "metadata": {},
   "outputs": [],
   "source": [
    "image_ids = submission_df[0]['image_id'].tolist()"
   ]
  },
  {
   "cell_type": "code",
   "execution_count": 4,
   "id": "8ad5847d",
   "metadata": {},
   "outputs": [
    {
     "name": "stdout",
     "output_type": "stream",
     "text": [
      "loading annotations into memory...\n",
      "Done (t=0.01s)\n",
      "creating index...\n",
      "index created!\n"
     ]
    }
   ],
   "source": [
    "annotation = '../../../dataset/test.json'\n",
    "coco = COCO(annotation)"
   ]
  },
  {
   "cell_type": "code",
   "execution_count": 5,
   "id": "b863f713",
   "metadata": {},
   "outputs": [
    {
     "name": "stderr",
     "output_type": "stream",
     "text": [
      "/opt/conda/envs/detection/lib/python3.7/site-packages/ensemble_boxes/ensemble_boxes_wbf.py:66: UserWarning: Zero area box skipped: [0.54356572265625, 1.0, 0.643754365234375, 1.0].\n",
      "  warnings.warn(\"Zero area box skipped: {}.\".format(box_part))\n",
      "/opt/conda/envs/detection/lib/python3.7/site-packages/ensemble_boxes/ensemble_boxes_wbf.py:66: UserWarning: Zero area box skipped: [0.39150673828125, 1.0, 0.49202123046875, 1.0].\n",
      "  warnings.warn(\"Zero area box skipped: {}.\".format(box_part))\n",
      "/opt/conda/envs/detection/lib/python3.7/site-packages/ensemble_boxes/ensemble_boxes_wbf.py:66: UserWarning: Zero area box skipped: [0.539386748046875, 1.0, 0.64904994140625, 1.0].\n",
      "  warnings.warn(\"Zero area box skipped: {}.\".format(box_part))\n",
      "/opt/conda/envs/detection/lib/python3.7/site-packages/ensemble_boxes/ensemble_boxes_wbf.py:66: UserWarning: Zero area box skipped: [0.5391869140625, 1.0, 0.64673154296875, 1.0].\n",
      "  warnings.warn(\"Zero area box skipped: {}.\".format(box_part))\n",
      "/opt/conda/envs/detection/lib/python3.7/site-packages/ensemble_boxes/ensemble_boxes_wbf.py:66: UserWarning: Zero area box skipped: [0.71144921875, 1.0, 0.80403333984375, 1.0].\n",
      "  warnings.warn(\"Zero area box skipped: {}.\".format(box_part))\n",
      "/opt/conda/envs/detection/lib/python3.7/site-packages/ensemble_boxes/ensemble_boxes_wbf.py:66: UserWarning: Zero area box skipped: [0.87104716796875, 1.0, 0.975125546875, 1.0].\n",
      "  warnings.warn(\"Zero area box skipped: {}.\".format(box_part))\n",
      "/opt/conda/envs/detection/lib/python3.7/site-packages/ensemble_boxes/ensemble_boxes_wbf.py:66: UserWarning: Zero area box skipped: [0.872296875, 1.0, 0.97357046875, 1.0].\n",
      "  warnings.warn(\"Zero area box skipped: {}.\".format(box_part))\n",
      "/opt/conda/envs/detection/lib/python3.7/site-packages/ensemble_boxes/ensemble_boxes_wbf.py:66: UserWarning: Zero area box skipped: [0.87155341796875, 1.0, 0.974513828125, 1.0].\n",
      "  warnings.warn(\"Zero area box skipped: {}.\".format(box_part))\n"
     ]
    }
   ],
   "source": [
    "prediction_strings = []\n",
    "file_names = []\n",
    "\n",
    "for i, image_id in enumerate(image_ids):\n",
    "    prediction_string = ''\n",
    "    boxes_list = []\n",
    "    scores_list = []\n",
    "    labels_list = []\n",
    "    image_info = coco.loadImgs(i)[0]\n",
    "    \n",
    "    for df in submission_df:\n",
    "        predict_string = df[df['image_id'] == image_id]['PredictionString'].tolist()[0]\n",
    "        predict_list = str(predict_string).split()\n",
    "        \n",
    "        if len(predict_list)==0 or len(predict_list)==1:\n",
    "            continue\n",
    "            \n",
    "        predict_list = np.reshape(predict_list, (-1, 6))\n",
    "        box_list = []\n",
    "        \n",
    "        for box in predict_list[:, 2:6].tolist():\n",
    "            box[0] = float(box[0]) / image_info['width']\n",
    "            box[1] = float(box[1]) / image_info['height']\n",
    "            box[2] = float(box[2]) / image_info['width']\n",
    "            box[3] = float(box[3]) / image_info['height']\n",
    "            box_list.append(box)\n",
    "            \n",
    "        boxes_list.append(box_list)\n",
    "        scores_list.append(list(map(float, predict_list[:, 1].tolist())))\n",
    "        labels_list.append(list(map(int, predict_list[:, 0].tolist())))\n",
    "    \n",
    "    if len(boxes_list):\n",
    "        # boxes, scores, labels = nms(boxes_list, scores_list, labels_list,iou_thr=iou_thr)\n",
    "        # boxes, scores, labels = soft_nms(box_list, scores_list, labels_list, iou_thr=iou_thr)\n",
    "        # boxes, scores, labels = non_maximum_weighted(boxes_list, scores_list, labels_list,iou_thr=iou_thr)\n",
    "        # boxes, scores, labels = weighted_boxes_fusion(boxes_list, scores_list, labels_list,iou_thr=0.5,conf_type='box_and_model_avg')\n",
    "        boxes, scores, labels = weighted_boxes_fusion(boxes_list, scores_list, labels_list,iou_thr=0.55)\n",
    "\n",
    "        for box, score, label in zip(boxes, scores, labels):\n",
    "            prediction_string += str(int(label)) + ' ' + str(score) + ' ' + str(box[0] * image_info['width']) + ' ' + str(box[1] * image_info['height']) + ' ' + str(box[2] * image_info['width']) + ' ' + str(box[3] * image_info['height']) + ' '\n",
    "    \n",
    "    prediction_strings.append(prediction_string)\n",
    "    file_names.append(image_id)"
   ]
  },
  {
   "cell_type": "code",
   "execution_count": 6,
   "id": "53b80ae8",
   "metadata": {},
   "outputs": [
    {
     "data": {
      "text/html": [
       "<div>\n",
       "<style scoped>\n",
       "    .dataframe tbody tr th:only-of-type {\n",
       "        vertical-align: middle;\n",
       "    }\n",
       "\n",
       "    .dataframe tbody tr th {\n",
       "        vertical-align: top;\n",
       "    }\n",
       "\n",
       "    .dataframe thead th {\n",
       "        text-align: right;\n",
       "    }\n",
       "</style>\n",
       "<table border=\"1\" class=\"dataframe\">\n",
       "  <thead>\n",
       "    <tr style=\"text-align: right;\">\n",
       "      <th></th>\n",
       "      <th>PredictionString</th>\n",
       "      <th>image_id</th>\n",
       "    </tr>\n",
       "  </thead>\n",
       "  <tbody>\n",
       "    <tr>\n",
       "      <th>0</th>\n",
       "      <td>7 0.7492848634719849 215.9990692138672 51.8916...</td>\n",
       "      <td>test/0000.jpg</td>\n",
       "    </tr>\n",
       "    <tr>\n",
       "      <th>1</th>\n",
       "      <td>5 0.6051363945007324 131.41134643554688 0.2908...</td>\n",
       "      <td>test/0001.jpg</td>\n",
       "    </tr>\n",
       "    <tr>\n",
       "      <th>2</th>\n",
       "      <td>4 0.5629739165306091 866.147216796875 244.2601...</td>\n",
       "      <td>test/0002.jpg</td>\n",
       "    </tr>\n",
       "    <tr>\n",
       "      <th>3</th>\n",
       "      <td>9 0.3633488714694977 156.30117797851562 275.67...</td>\n",
       "      <td>test/0003.jpg</td>\n",
       "    </tr>\n",
       "    <tr>\n",
       "      <th>4</th>\n",
       "      <td>1 0.402248740196228 198.8267059326172 255.8225...</td>\n",
       "      <td>test/0004.jpg</td>\n",
       "    </tr>\n",
       "  </tbody>\n",
       "</table>\n",
       "</div>"
      ],
      "text/plain": [
       "                                    PredictionString       image_id\n",
       "0  7 0.7492848634719849 215.9990692138672 51.8916...  test/0000.jpg\n",
       "1  5 0.6051363945007324 131.41134643554688 0.2908...  test/0001.jpg\n",
       "2  4 0.5629739165306091 866.147216796875 244.2601...  test/0002.jpg\n",
       "3  9 0.3633488714694977 156.30117797851562 275.67...  test/0003.jpg\n",
       "4  1 0.402248740196228 198.8267059326172 255.8225...  test/0004.jpg"
      ]
     },
     "execution_count": 6,
     "metadata": {},
     "output_type": "execute_result"
    }
   ],
   "source": [
    "submission = pd.DataFrame()\n",
    "submission['PredictionString'] = prediction_strings\n",
    "submission['image_id'] = file_names\n",
    "submission.to_csv('submission_ensemble.csv')\n",
    "\n",
    "submission.head()"
   ]
  },
  {
   "cell_type": "code",
   "execution_count": null,
   "id": "a1f26db2",
   "metadata": {},
   "outputs": [],
   "source": []
  }
 ],
 "metadata": {
  "kernelspec": {
   "display_name": "Python 3.7.15 ('detection')",
   "language": "python",
   "name": "python3"
  },
  "language_info": {
   "codemirror_mode": {
    "name": "ipython",
    "version": 3
   },
   "file_extension": ".py",
   "mimetype": "text/x-python",
   "name": "python",
   "nbconvert_exporter": "python",
   "pygments_lexer": "ipython3",
   "version": "3.7.15"
  },
  "vscode": {
   "interpreter": {
    "hash": "b94c6de4bce9a87a354a5fa9998691adc0532adddb9d4140f5ba941d00b01fae"
   }
  }
 },
 "nbformat": 4,
 "nbformat_minor": 5
}
